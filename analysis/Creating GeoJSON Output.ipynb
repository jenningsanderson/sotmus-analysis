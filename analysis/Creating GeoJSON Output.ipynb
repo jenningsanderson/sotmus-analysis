{
 "cells": [
  {
   "cell_type": "markdown",
   "metadata": {},
   "source": [
    "# Creating GeoJSON for sotmus-analysis page \n",
    "\n",
    "Requirements: `geometry` attribute is parsable GeoJSON geometry"
   ]
  },
  {
   "cell_type": "code",
   "execution_count": 2,
   "metadata": {},
   "outputs": [],
   "source": [
    "import pandas as pd\n",
    "import numpy as np\n",
    "import seaborn as sns\n",
    "import matplotlib.pyplot as plt\n",
    "import datetime, calendar, time\n",
    "import matplotlib.dates as mdates\n",
    "import matplotlib.colors as colors\n",
    "import matplotlib.ticker\n",
    "%matplotlib inline"
   ]
  },
  {
   "cell_type": "code",
   "execution_count": 3,
   "metadata": {},
   "outputs": [],
   "source": [
    "PLACE = \"detroit\"\n",
    "DATA  = '../data/'+PLACE+'-heatmap-stats.data'"
   ]
  },
  {
   "cell_type": "markdown",
   "metadata": {},
   "source": [
    "Ensure the header is correct: \n",
    "\n",
    "    feat.properties['@id'],\n",
    "    feat.properties['@type'],\n",
    "    feat.properties.highway,\n",
    "    feat.properties.building,\n",
    "    feat.properties.amenity,\n",
    "    len,\n",
    "    objArea,\n",
    "    aA.join(\",\"),\n",
    "    aD.join(\",\"),\n",
    "    aM.join(\",\"),\n",
    "    version.properties['@user'],\n",
    "    version.properties['@version'],\n",
    "    version.properties['@minorVersion'],\n",
    "    version.properties['@validSince'],\n",
    "    version.properties['@validUntil'],\n",
    "    JSON.stringify(version.geometry) || undefined"
   ]
  },
  {
   "cell_type": "code",
   "execution_count": 4,
   "metadata": {},
   "outputs": [],
   "source": [
    "header = ['id',        \n",
    "          'type',\n",
    "          'highway',\n",
    "          'building',\n",
    "          'amenity',\n",
    "          'length',\n",
    "          'area',\n",
    "          'aA',\n",
    "          'aD',\n",
    "          'aM',\n",
    "          'user',\n",
    "          'version',\n",
    "          'minorVersion',\n",
    "          'validSince',\n",
    "          'validUntil',\n",
    "          'center'\n",
    "          'geometry']"
   ]
  },
  {
   "cell_type": "code",
   "execution_count": 5,
   "metadata": {},
   "outputs": [
    {
     "name": "stderr",
     "output_type": "stream",
     "text": [
      "/usr/local/lib/python3.6/dist-packages/IPython/core/interactiveshell.py:2728: DtypeWarning: Columns (0,5,6) have mixed types. Specify dtype option on import or set low_memory=False.\n",
      "  interactivity=interactivity, compiler=compiler, result=result)\n"
     ]
    }
   ],
   "source": [
    "df = pd.read_csv(DATA,names=header, sep='\\t')"
   ]
  },
  {
   "cell_type": "markdown",
   "metadata": {},
   "source": [
    "Calculate new columns and convert to Python objects"
   ]
  },
  {
   "cell_type": "code",
   "execution_count": null,
   "metadata": {},
   "outputs": [],
   "source": [
    "df['date'] = df.validSince.apply(lambda x: pd.Timestamp(x*1000000000).date())\n",
    "df.replace(\"false\", np.NaN, inplace=True)\n",
    "df.validUntil = df['validUntil'].astype(float)"
   ]
  },
  {
   "cell_type": "code",
   "execution_count": null,
   "metadata": {},
   "outputs": [],
   "source": [
    "df.id.count(), df.id.nunique(), df.user.nunique(), df.query('version==1').id.count()"
   ]
  },
  {
   "cell_type": "code",
   "execution_count": null,
   "metadata": {},
   "outputs": [],
   "source": [
    "df = df[df.geometry.notnull()]"
   ]
  },
  {
   "cell_type": "code",
   "execution_count": null,
   "metadata": {},
   "outputs": [],
   "source": [
    "df.id.count(), df.id.nunique(), df.user.nunique(), df.query('version==1').id.count()"
   ]
  },
  {
   "cell_type": "code",
   "execution_count": null,
   "metadata": {},
   "outputs": [],
   "source": [
    "df.head(3)"
   ]
  },
  {
   "cell_type": "markdown",
   "metadata": {},
   "source": [
    "# Version 1: Export edits by Date Per Object:"
   ]
  },
  {
   "cell_type": "code",
   "execution_count": 204,
   "metadata": {},
   "outputs": [
    {
     "name": "stdout",
     "output_type": "stream",
     "text": [
      "Finished building\n",
      "Finished highway\n",
      "Finished amenity\n"
     ]
    }
   ],
   "source": [
    "for TYPE in ['building', 'highway','amenity']:\n",
    "    featColl = {'type':'FeatureCollection','features':[]}\n",
    "    for date, edits in df[df[TYPE].notnull()].groupby('date'):\n",
    "        geometryColl = edits.geometry.apply(lambda x: json.loads(x))\n",
    "        geojson = {\n",
    "            'geometry':{'type':'GeometryCollection','geometries':list(geometryColl)},\n",
    "            'type':\"Feature\",\n",
    "            'properties': {'days_since_2005': (date - datetime.date(2005,1,1) ).days, 'edits':len(edits)}\n",
    "        }\n",
    "        featColl['features'].append(geojson)\n",
    "    print(\"Finished\", TYPE)\n",
    "\n",
    "    json.dump(featColl, open(\"../docs/data/\"+PLACE+\"-\"+TYPE+\"-points.geojson\",'w'))"
   ]
  },
  {
   "cell_type": "markdown",
   "metadata": {},
   "source": [
    "# Version 2: Export more data (for tiling)"
   ]
  },
  {
   "cell_type": "code",
   "execution_count": null,
   "metadata": {},
   "outputs": [],
   "source": []
  },
  {
   "cell_type": "code",
   "execution_count": null,
   "metadata": {},
   "outputs": [],
   "source": []
  },
  {
   "cell_type": "code",
   "execution_count": null,
   "metadata": {},
   "outputs": [],
   "source": []
  },
  {
   "cell_type": "code",
   "execution_count": null,
   "metadata": {},
   "outputs": [],
   "source": []
  },
  {
   "cell_type": "markdown",
   "metadata": {},
   "source": [
    "# Various Analyses Available for these files\n",
    "## Unique Users overtime"
   ]
  },
  {
   "cell_type": "code",
   "execution_count": 179,
   "metadata": {},
   "outputs": [],
   "source": [
    "allUsers = []\n",
    "dates = {}\n",
    "for idx, row in df.sort_values(by='validSince').iterrows():\n",
    "    if row.user not in allUsers:\n",
    "        if row.date in dates:\n",
    "            dates[row.date]+=1\n",
    "        else:\n",
    "            dates[row.date]=1\n",
    "        allUsers.append(row.user)\n",
    "dates2 = []\n",
    "for date, value in dates.items():\n",
    "    dates2.append({'date':date, 'count':value})\n",
    "unique_users_over_time = pd.DataFrame(dates2)"
   ]
  },
  {
   "cell_type": "code",
   "execution_count": 180,
   "metadata": {},
   "outputs": [],
   "source": [
    "unique_users_over_time['cumulative'] = unique_users_over_time['count'].cumsum()"
   ]
  },
  {
   "cell_type": "code",
   "execution_count": 181,
   "metadata": {},
   "outputs": [
    {
     "data": {
      "text/plain": [
       "Text(0.5,0,'Year')"
      ]
     },
     "execution_count": 181,
     "metadata": {},
     "output_type": "execute_result"
    },
    {
     "data": {
      "image/png": "[encoded data removed]",
      "text/plain": [
       "<matplotlib.figure.Figure at 0x7f41cbb914e0>"
      ]
     },
     "metadata": {},
     "output_type": "display_data"
    }
   ],
   "source": [
    "sns.set_style('whitegrid')\n",
    "ax = unique_users_over_time.plot(x='date',y='cumulative',figsize=(15,8),legend=None)\n",
    "ax.set_ylabel('Number of unique contributors', fontsize=15);\n",
    "ax.set_xlabel('Year', fontsize=15)"
   ]
  },
  {
   "cell_type": "markdown",
   "metadata": {},
   "source": [
    "# When were Tiger Tags Deleted?"
   ]
  },
  {
   "cell_type": "code",
   "execution_count": 182,
   "metadata": {},
   "outputs": [
    {
     "data": {
      "image/png": "[encoded data removed]",
      "text/plain": [
       "<matplotlib.figure.Figure at 0x7f41cb5b1a20>"
      ]
     },
     "metadata": {},
     "output_type": "display_data"
    }
   ],
   "source": [
    "gb_dates_nobots = df[~df['user'].str.contains(\"bot\")].groupby('date').aggregate({'id':pd.Series.count, 'user': pd.Series.nunique})\n",
    "gb_dates_bots = df[df['user'].str.contains(\"bot\")].groupby('date').aggregate({'id':pd.Series.count, 'user': pd.Series.nunique})\n",
    "sns.set_style(\"darkgrid\")\n",
    "ax = gb_dates_nobots.id.cumsum().plot(figsize=(10,5))\n",
    "gb_dates_bots.id.cumsum().plot(color='orange',ax=ax)\n",
    "ax.set_title(\"Cumulative Tiger Tags Deleted Overtime\", fontsize=15)\n",
    "ax.legend(['By People','By Bots']);"
   ]
  }
 ],
 "metadata": {
  "kernelspec": {
   "display_name": "Python 3",
   "language": "python",
   "name": "python3"
  },
  "language_info": {
   "codemirror_mode": {
    "name": "ipython",
    "version": 3
   },
   "file_extension": ".py",
   "mimetype": "text/x-python",
   "name": "python",
   "nbconvert_exporter": "python",
   "pygments_lexer": "ipython3",
   "version": "3.6.3"
  }
 },
 "nbformat": 4,
 "nbformat_minor": 2
}
