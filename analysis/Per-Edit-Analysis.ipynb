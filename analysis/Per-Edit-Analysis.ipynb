{
 "cells": [
  {
   "cell_type": "code",
   "execution_count": null,
   "metadata": {},
   "outputs": [],
   "source": [
    "import pandas as pd, sys\n",
    "import numpy as np\n",
    "import seaborn as sns\n",
    "import matplotlib.pyplot as plt\n",
    "import datetime, calendar, time\n",
    "import matplotlib.dates as mdates\n",
    "import matplotlib.colors as colors\n",
    "import matplotlib.ticker\n",
    "%matplotlib inline"
   ]
  },
  {
   "cell_type": "markdown",
   "metadata": {},
   "source": [
    "### Set the city for analysis\n",
    "Loads the city file from `../data`"
   ]
  },
  {
   "cell_type": "code",
   "execution_count": null,
   "metadata": {},
   "outputs": [],
   "source": [
    "PLACE = \"detroit_michigan\""
   ]
  },
  {
   "cell_type": "markdown",
   "metadata": {},
   "source": [
    "Read in the versions file"
   ]
  },
  {
   "cell_type": "code",
   "execution_count": null,
   "metadata": {},
   "outputs": [],
   "source": [
    "header = ['id','type','amenity','highway','building','name','length','area','aA','aD','aM','user', 'version','minorVersion','validSince','validUntil','changeset','center']"
   ]
  },
  {
   "cell_type": "code",
   "execution_count": null,
   "metadata": {},
   "outputs": [],
   "source": [
    "df = pd.read_csv('../data/'+PLACE+'-all-stats.data',names=header, sep='\\t',index_col=None)\n",
    "df.sort_values(by='validSince',inplace=True)\n",
    "df = df.reset_index(drop=True)\n",
    "df.head(2)"
   ]
  },
  {
   "cell_type": "markdown",
   "metadata": {},
   "source": [
    "Calculate new columns and convert to Python objects"
   ]
  },
  {
   "cell_type": "code",
   "execution_count": null,
   "metadata": {},
   "outputs": [],
   "source": [
    "df['date'] = df.validSince.apply(lambda x: pd.Timestamp(x*1000000000).date())\n",
    "df.replace(\"false\", np.NaN, inplace=True)\n",
    "df.validUntil = df['validUntil'].astype(float)\n",
    "\n",
    "#Cast length and area to floats\n",
    "df.length = pd.to_numeric(df.length, downcast='float')\n",
    "df.area = pd.to_numeric(df.length, downcast='float')\n",
    "df.version = pd.to_numeric(df.version, downcast='integer')"
   ]
  },
  {
   "cell_type": "code",
   "execution_count": null,
   "metadata": {},
   "outputs": [],
   "source": [
    "print(\"Loaded {:,} edits to {:,} objects from {:,} users\".format( df.id.count(), df.id.nunique(), df.user.nunique()) );"
   ]
  },
  {
   "cell_type": "markdown",
   "metadata": {},
   "source": [
    "# 1. Kilometers of roads over time"
   ]
  },
  {
   "cell_type": "code",
   "execution_count": null,
   "metadata": {
    "scrolled": false
   },
   "outputs": [],
   "source": [
    "sns.set_style('whitegrid')\n",
    "hw = df[~pd.isnull(df.highway)]\n",
    "ax = hw[hw.version==1].groupby('date').aggregate({'length':sum}).cumsum().plot(figsize=(12,8),legend=None)\n",
    "hw[hw.version>1].groupby('date').aggregate({'length':sum}).cumsum().plot(ax=ax,legend=None)\n",
    "ax.set_ylabel(\"Kilometers of road edits\",fontsize=16)\n",
    "ax.set_title(\"Kilometers of road edited vs. added over time\",fontsize=16);\n",
    "ax.legend(['Added','Edited'], loc=0, fontsize=12);"
   ]
  },
  {
   "cell_type": "markdown",
   "metadata": {},
   "source": [
    "# 2 Buildings Over time"
   ]
  },
  {
   "cell_type": "code",
   "execution_count": null,
   "metadata": {},
   "outputs": [],
   "source": [
    "sns.set_style('whitegrid')\n",
    "buildings = df[~pd.isnull(df.building)]\n",
    "ax = buildings[(buildings.version==1) & (buildings.minorVersion==0)].groupby('date').aggregate({'id':'nunique'}).cumsum().plot(figsize=(12,8),legend=None)\n",
    "buildings[buildings.version>1].groupby('date').aggregate({'id':'nunique'}).cumsum().plot(ax=ax,legend=None)\n",
    "ax.set_ylabel(\"Buildings Edited\",fontsize=16)\n",
    "ax.set_title(\"Number of buildings edited vs. added over time\",fontsize=16);\n",
    "ax.legend(['Added','Edited'], loc=0, fontsize=12);"
   ]
  },
  {
   "cell_type": "markdown",
   "metadata": {},
   "source": [
    "### Top Building Contributors (Added)"
   ]
  },
  {
   "cell_type": "code",
   "execution_count": null,
   "metadata": {
    "scrolled": true
   },
   "outputs": [],
   "source": [
    "buildings[(buildings.minorVersion==0) & (buildings.version==1)].groupby('user').aggregate({\n",
    "    'id':'count'}).sort_values(by='id',ascending=False).head(10)"
   ]
  },
  {
   "cell_type": "markdown",
   "metadata": {},
   "source": [
    "### Top Building Contributors (Recently)"
   ]
  },
  {
   "cell_type": "code",
   "execution_count": null,
   "metadata": {
    "scrolled": true
   },
   "outputs": [],
   "source": [
    "buildings[(buildings.minorVersion==0) & (buildings.version==1) & \n",
    "          (buildings.date > datetime.date(2018,8,1))].groupby('user').aggregate(\n",
    "            {'id':'count'}).sort_values(by='id',ascending=False).head(10)"
   ]
  },
  {
   "cell_type": "markdown",
   "metadata": {},
   "source": [
    "# 3 Amenities Over time"
   ]
  },
  {
   "cell_type": "code",
   "execution_count": null,
   "metadata": {},
   "outputs": [],
   "source": [
    "sns.set_style('whitegrid')\n",
    "amenities = df[~pd.isnull(df.amenity)]\n",
    "ax = amenities[(amenities.version==1) & (amenities.minorVersion==0)].groupby('date').aggregate({'id':'nunique'}).cumsum().plot(figsize=(12,8),legend=None)\n",
    "amenities[amenities.version>1].groupby('date').aggregate({'id':'nunique'}).cumsum().plot(ax=ax,legend=None)\n",
    "ax.set_ylabel(\"Amenities Edited\",fontsize=16)\n",
    "ax.set_title(\"Number of `Amenities` edited vs. added over time\",fontsize=16);\n",
    "ax.legend(['Added','Edited'], loc=0, fontsize=12);"
   ]
  },
  {
   "cell_type": "markdown",
   "metadata": {},
   "source": [
    "# 4 Contributors per week ... an editing pulse?"
   ]
  },
  {
   "cell_type": "code",
   "execution_count": null,
   "metadata": {
    "scrolled": false
   },
   "outputs": [],
   "source": [
    "ax = df.groupby('date').aggregate({'user':'nunique'}).rolling(7).mean().plot(figsize=(15,8),legend=None)\n",
    "ax.set_ylabel(\"Number of Users\",fontsize=16)\n",
    "ax.set_title(\"Contributors editing per week\",fontsize=16);"
   ]
  },
  {
   "cell_type": "markdown",
   "metadata": {},
   "source": [
    "# 5 Edits per week?"
   ]
  },
  {
   "cell_type": "code",
   "execution_count": null,
   "metadata": {},
   "outputs": [],
   "source": [
    "ax = df.groupby('date').aggregate({'id':'count'}).rolling(7).mean().plot(figsize=(15,8),legend=None)\n",
    "ax.set_ylabel(\"Number of edits\",fontsize=16)\n",
    "ax.set_title(\"Edits per week\",fontsize=16);"
   ]
  },
  {
   "cell_type": "markdown",
   "metadata": {},
   "source": [
    "# 6 Users over time"
   ]
  },
  {
   "cell_type": "code",
   "execution_count": null,
   "metadata": {},
   "outputs": [],
   "source": [
    "# Kudos to Seth on this algorithm :) \n",
    "unique_users_over_time = df.groupby('user').aggregate(\n",
    "    {'date':min}).reset_index().groupby('date').aggregate({'user':'count'})"
   ]
  },
  {
   "cell_type": "code",
   "execution_count": null,
   "metadata": {},
   "outputs": [],
   "source": [
    "sns.set_style('whitegrid')\n",
    "ax = unique_users_over_time.cumsum().plot(figsize=(15,8),legend=None)\n",
    "ax.set_ylabel('Number of Unique Contributors', fontsize=15)\n",
    "ax.set_xlabel('Year', fontsize=15);"
   ]
  },
  {
   "cell_type": "markdown",
   "metadata": {},
   "source": [
    "# 7 Contributor Co-Editing Network"
   ]
  },
  {
   "cell_type": "code",
   "execution_count": null,
   "metadata": {},
   "outputs": [],
   "source": [
    "import networkx as nx"
   ]
  },
  {
   "cell_type": "code",
   "execution_count": null,
   "metadata": {},
   "outputs": [],
   "source": [
    "G = nx.DiGraph()\n",
    "for line in open('../data/'+PLACE+'-users.edgelist','r'):\n",
    "    sourceLabel, targetLabel, weight = line.split(\",\")\n",
    "    weight = int(weight)\n",
    "    if weight > 100:\n",
    "        G.add_edge(sourceLabel, targetLabel, weight=weight)"
   ]
  },
  {
   "cell_type": "code",
   "execution_count": null,
   "metadata": {},
   "outputs": [],
   "source": [
    "len(G.nodes())"
   ]
  },
  {
   "cell_type": "code",
   "execution_count": null,
   "metadata": {
    "scrolled": true
   },
   "outputs": [],
   "source": [
    "nx.draw_spring(G, with_labels=True)"
   ]
  },
  {
   "cell_type": "code",
   "execution_count": null,
   "metadata": {},
   "outputs": [],
   "source": [
    "nx.write_graphml(G,'../data/'+PLACE+'.graphml');\n",
    "print(\"View the GML file in the data diretory: ../data/\"+PLACE+\".graphml\")\n",
    "print(\"Recommend downloading GEPHI: https://gephi.org/ to view this file\")"
   ]
  },
  {
   "cell_type": "markdown",
   "metadata": {},
   "source": [
    "# 8 Versions"
   ]
  },
  {
   "cell_type": "code",
   "execution_count": null,
   "metadata": {
    "scrolled": false
   },
   "outputs": [],
   "source": [
    "ax = buildings.version.hist(figsize=(10,4),bins=np.arange(1,buildings.version.max(),1))\n",
    "ax.set_yscale('log'); ax.set_title('Histogram of Object Versions', fontsize=16)\n",
    "ax.set_xlabel(\"Version\",fontsize=14); ax.set_ylabel(\"Number of Objects (log-scale)\",fontsize=14);"
   ]
  },
  {
   "cell_type": "markdown",
   "metadata": {},
   "source": [
    "### Most edited buildings?"
   ]
  },
  {
   "cell_type": "code",
   "execution_count": null,
   "metadata": {},
   "outputs": [],
   "source": [
    "buildings.sort_values(by='version', ascending=False).head()"
   ]
  },
  {
   "cell_type": "markdown",
   "metadata": {},
   "source": [
    "# Minor Versions?"
   ]
  },
  {
   "cell_type": "code",
   "execution_count": null,
   "metadata": {},
   "outputs": [],
   "source": [
    "df.minorVersion.value_counts().head()"
   ]
  },
  {
   "cell_type": "code",
   "execution_count": null,
   "metadata": {},
   "outputs": [],
   "source": [
    "print(\"Number of uncounted minor geometry edits: {:,}\".format( int(df.query('minorVersion>0').minorVersion.sum())) )"
   ]
  },
  {
   "cell_type": "code",
   "execution_count": null,
   "metadata": {
    "scrolled": false
   },
   "outputs": [],
   "source": [
    "df2 = buildings[buildings.minorVersion>0].groupby('date').aggregate({'id':'count'})\n",
    "df2.plot(figsize=(15,8), legend=None, marker='.', linewidth=0);\n",
    "ax.set_title(\"When Minor Versions Happen (Geometry Only Changes)\",fontsize=16); ax.set_ylabel(\"Number of edits\")\n",
    "ax.set_xlabel(\"Date\", fontsize=14);"
   ]
  },
  {
   "cell_type": "markdown",
   "metadata": {},
   "source": [
    "# 10 Evolution of the Map: Roads --> Buildings?"
   ]
  },
  {
   "cell_type": "code",
   "execution_count": null,
   "metadata": {
    "scrolled": false
   },
   "outputs": [],
   "source": [
    "ax = df[(df.version==1) & (df.minorVersion==0)].groupby('date').aggregate({'building':'count','highway':'count','amenity':'count'}).cumsum().plot(figsize=(15,8))\n",
    "ax.set_title('Creation of Objects overtime');\n",
    "ax.set_yscale('LOG')"
   ]
  },
  {
   "cell_type": "markdown",
   "metadata": {},
   "source": [
    "# Learning about Names"
   ]
  },
  {
   "cell_type": "code",
   "execution_count": null,
   "metadata": {},
   "outputs": [],
   "source": [
    "def extract_key(attributeString,attr):\n",
    "    if type(attributeString)==str:\n",
    "        try:\n",
    "            tags   = attributeString.split(\"|-|\")\n",
    "            tuples = [x.split(\"-->\") for x in tags]\n",
    "            keys   = [x[0] for x in tuples]\n",
    "            values = [x[1] for x in tuples]\n",
    "            if attr in keys:\n",
    "                return values[keys.index(attr)]\n",
    "            else:\n",
    "                return np.NaN\n",
    "        except:\n",
    "            print(attributeString)\n",
    "            print(\"keys\", keys)\n",
    "            raise\n",
    "    return np.NaN"
   ]
  },
  {
   "cell_type": "code",
   "execution_count": null,
   "metadata": {
    "scrolled": false
   },
   "outputs": [],
   "source": [
    "df['nameAdded'] = df.aA.apply(lambda x: extract_key(x,'name'))"
   ]
  },
  {
   "cell_type": "markdown",
   "metadata": {},
   "source": [
    "## When were names added to roads?"
   ]
  },
  {
   "cell_type": "code",
   "execution_count": null,
   "metadata": {},
   "outputs": [],
   "source": [
    "ax = df[pd.isnull(df.highway)].groupby('date').aggregate({'nameAdded':'count'}).plot(figsize=(15,8))\n",
    "ax.set_title('When the `name` attribute was added to objects on the map',fontsize=18);"
   ]
  },
  {
   "cell_type": "markdown",
   "metadata": {},
   "source": [
    "# Top 15 Mappers of 2018?"
   ]
  },
  {
   "cell_type": "code",
   "execution_count": null,
   "metadata": {
    "scrolled": false
   },
   "outputs": [],
   "source": [
    "df[df.date > datetime.date(2018,1,1)].groupby('user').aggregate({'id':'count'}).sort_values(by='id',ascending=False).head(15)\n"
   ]
  },
  {
   "cell_type": "markdown",
   "metadata": {},
   "source": [
    "## A heatmap of building edits?"
   ]
  },
  {
   "cell_type": "code",
   "execution_count": 33,
   "metadata": {},
   "outputs": [
    {
     "name": "stdout",
     "output_type": "stream",
     "text": [
      "Starting a local webserver in the `docs` directory: \n",
      "\n",
      "\n",
      "Check it out at: http://localhost:8000/index.html?data=detroit_michigan.geojson\n"
     ]
    }
   ],
   "source": [
    "import json, os\n",
    "featColl = {'type':'FeatureCollection','features':[]}\n",
    "for date, edits in df[pd.notnull(df.building)].groupby('date'):\n",
    "    try:\n",
    "        geometryColl = edits.center.apply(lambda x: {'type':'Point','coordinates':[float(y) for y in x.split(\",\")]})\n",
    "        geojson = {\n",
    "            'geometry':{'type':'GeometryCollection','geometries':list(geometryColl)},\n",
    "            'type':\"Feature\",\n",
    "            'properties': {'days_since_2005': (date - datetime.date(2005,1,1) ).days, 'edits':len(edits)}\n",
    "        }\n",
    "        featColl['features'].append(geojson)\n",
    "    except:\n",
    "        print(\"err--moving on\")\n",
    "    \n",
    "json.dump(featColl, open(\"../docs/data/\"+PLACE+\".geojson\",'w'))\n",
    "\n",
    "print(\"Starting a local webserver in the `docs` directory: \")\n",
    "os.system(\"cd ../docs && python -m SimpleHTTPServer 8000 & \")\n",
    "print(\"\\n\\nCheck it out at: http://localhost:8000/index.html?data=\"+PLACE+\".geojson\")"
   ]
  },
  {
   "cell_type": "code",
   "execution_count": null,
   "metadata": {},
   "outputs": [],
   "source": []
  }
 ],
 "metadata": {
  "kernelspec": {
   "display_name": "Python 3",
   "language": "python",
   "name": "python3"
  },
  "language_info": {
   "codemirror_mode": {
    "name": "ipython",
    "version": 3
   },
   "file_extension": ".py",
   "mimetype": "text/x-python",
   "name": "python",
   "nbconvert_exporter": "python",
   "pygments_lexer": "ipython3",
   "version": "3.7.1"
  }
 },
 "nbformat": 4,
 "nbformat_minor": 2
}
